{
 "cells": [
  {
   "cell_type": "markdown",
   "metadata": {},
   "source": [
    "# Linear Regression Assignment\n",
    "Denna notebook demonstrerar funktionaliteten hos LinearRegression-klassen.\n",
    "\n"
   ]
  },
  {
   "cell_type": "code",
   "execution_count": 1,
   "metadata": {},
   "outputs": [],
   "source": [
    "import pandas as pd\n",
    "import numpy as np\n",
    "from scipy import stats\n",
    "from Statistiska_metoder_labb_klass import LinjärRegression\n",
    "\n"
   ]
  },
  {
   "cell_type": "code",
   "execution_count": 2,
   "metadata": {},
   "outputs": [],
   "source": [
    "df = pd.read_csv(\"C:\\\\Programering\\\\It högskolan\\\\Statistiska-Metoder\\\\Data\\\\Small-diameter-flow.csv\")"
   ]
  },
  {
   "cell_type": "code",
   "execution_count": 3,
   "metadata": {},
   "outputs": [],
   "source": [
    "Y = df[\"Flow\"]\n",
    "X = np.column_stack([np.ones(Y.shape[0]),df[\"Kinematic\"], df[\"Geometric\"], df[\"Inertial\"], df[\"Observer\"]])"
   ]
  },
  {
   "cell_type": "code",
   "execution_count": 4,
   "metadata": {},
   "outputs": [
    {
     "data": {
      "text/html": [
       "<div>\n",
       "<style scoped>\n",
       "    .dataframe tbody tr th:only-of-type {\n",
       "        vertical-align: middle;\n",
       "    }\n",
       "\n",
       "    .dataframe tbody tr th {\n",
       "        vertical-align: top;\n",
       "    }\n",
       "\n",
       "    .dataframe thead th {\n",
       "        text-align: right;\n",
       "    }\n",
       "</style>\n",
       "<table border=\"1\" class=\"dataframe\">\n",
       "  <thead>\n",
       "    <tr style=\"text-align: right;\">\n",
       "      <th></th>\n",
       "      <th>Unnamed: 0</th>\n",
       "      <th>Flow</th>\n",
       "      <th>Kinematic</th>\n",
       "      <th>Geometric</th>\n",
       "      <th>Inertial</th>\n",
       "      <th>Observer</th>\n",
       "    </tr>\n",
       "  </thead>\n",
       "  <tbody>\n",
       "    <tr>\n",
       "      <th>0</th>\n",
       "      <td>0</td>\n",
       "      <td>-17.047687</td>\n",
       "      <td>-0.584344</td>\n",
       "      <td>-6.896327</td>\n",
       "      <td>-14.323560</td>\n",
       "      <td>0.0</td>\n",
       "    </tr>\n",
       "    <tr>\n",
       "      <th>1</th>\n",
       "      <td>1</td>\n",
       "      <td>-17.043179</td>\n",
       "      <td>-0.584344</td>\n",
       "      <td>-6.896327</td>\n",
       "      <td>-14.323560</td>\n",
       "      <td>0.0</td>\n",
       "    </tr>\n",
       "    <tr>\n",
       "      <th>2</th>\n",
       "      <td>2</td>\n",
       "      <td>-17.043179</td>\n",
       "      <td>-0.584344</td>\n",
       "      <td>-6.896327</td>\n",
       "      <td>-14.323560</td>\n",
       "      <td>0.0</td>\n",
       "    </tr>\n",
       "    <tr>\n",
       "      <th>3</th>\n",
       "      <td>3</td>\n",
       "      <td>-11.182193</td>\n",
       "      <td>1.242506</td>\n",
       "      <td>-5.069476</td>\n",
       "      <td>-11.583284</td>\n",
       "      <td>0.0</td>\n",
       "    </tr>\n",
       "    <tr>\n",
       "      <th>4</th>\n",
       "      <td>4</td>\n",
       "      <td>-11.184430</td>\n",
       "      <td>1.242506</td>\n",
       "      <td>-5.069476</td>\n",
       "      <td>-11.583284</td>\n",
       "      <td>0.0</td>\n",
       "    </tr>\n",
       "  </tbody>\n",
       "</table>\n",
       "</div>"
      ],
      "text/plain": [
       "   Unnamed: 0       Flow  Kinematic  Geometric   Inertial  Observer\n",
       "0           0 -17.047687  -0.584344  -6.896327 -14.323560       0.0\n",
       "1           1 -17.043179  -0.584344  -6.896327 -14.323560       0.0\n",
       "2           2 -17.043179  -0.584344  -6.896327 -14.323560       0.0\n",
       "3           3 -11.182193   1.242506  -5.069476 -11.583284       0.0\n",
       "4           4 -11.184430   1.242506  -5.069476 -11.583284       0.0"
      ]
     },
     "execution_count": 4,
     "metadata": {},
     "output_type": "execute_result"
    }
   ],
   "source": [
    "df.head()"
   ]
  },
  {
   "cell_type": "code",
   "execution_count": 5,
   "metadata": {},
   "outputs": [
    {
     "data": {
      "text/plain": [
       "Unnamed: 0    0.140553\n",
       "Flow          1.000000\n",
       "Kinematic     0.863403\n",
       "Geometric     0.995794\n",
       "Inertial      0.903310\n",
       "Observer      0.181490\n",
       "Name: Flow, dtype: float64"
      ]
     },
     "execution_count": 5,
     "metadata": {},
     "output_type": "execute_result"
    }
   ],
   "source": [
    "df.corr()[\"Flow\"]"
   ]
  },
  {
   "cell_type": "code",
   "execution_count": 6,
   "metadata": {},
   "outputs": [],
   "source": [
    "model = LinjärRegression(X, Y)"
   ]
  },
  {
   "cell_type": "code",
   "execution_count": 7,
   "metadata": {},
   "outputs": [
    {
     "name": "stdout",
     "output_type": "stream",
     "text": [
      "Koefficienter: [-2.58376909  0.87000771  3.60315069 -0.75188958  0.0168805 ]\n",
      "Antal observationer: 198\n",
      "Antal prediktorer: 4\n",
      "Sum of Squared Errors (SSE): 1.2105524599028277\n",
      "Total Sum of Squares (SST): 425.14419302220585\n",
      "Sum of Squares due to Regression (SSR): 423.933640562303\n",
      "R²: 0.9971526073276518\n",
      "Varians: 0.00627229253835662\n",
      "Standardavvikelse: 0.07919780639864099\n"
     ]
    }
   ],
   "source": [
    "b = np.linalg.pinv(X.T @ X) @ X.T @ Y  # Koefficienter\n",
    "n = Y.shape[0]                         # Antal observationer\n",
    "d = len(b)-1                          # Antal prediktorer\n",
    "SSE = np.sum(np.square(Y - (X @ b)))  # Sum of Squared Errors\n",
    "SST = np.sum(np.square(Y - np.mean(Y))) # Total Sum of Squares\n",
    "SSR = SST - SSE                       # Sum of Squares due to Regression\n",
    "R2 = 1 - SSE/SST                      # R-kvadrat\n",
    "var = SSE/(n-d-1)                     # Varians\n",
    "S = np.sqrt(var)                      # Standardavvikelse\n",
    "\n",
    "print(f\"Koefficienter: {b}\")\n",
    "print(f\"Antal observationer: {n}\")\n",
    "print(f\"Antal prediktorer: {d}\")\n",
    "print(f\"Sum of Squared Errors (SSE): {SSE}\")\n",
    "print(f\"Total Sum of Squares (SST): {SST}\")\n",
    "print(f\"Sum of Squares due to Regression (SSR): {SSR}\")\n",
    "print(f\"R²: {R2}\")\n",
    "print(f\"Varians: {var}\")\n",
    "print(f\"Standardavvikelse: {S}\")"
   ]
  },
  {
   "cell_type": "code",
   "execution_count": 8,
   "metadata": {},
   "outputs": [
    {
     "name": "stdout",
     "output_type": "stream",
     "text": [
      "Antal observationer: 198\n",
      "Varians: 0.00627229253835662\n",
      "Standardavvikelse: 0.07919780639864099\n",
      "Signifikans av regressionen: 1.72651823461757e-139\n",
      "R²-värde: 0.9971526073291292\n",
      "4\n",
      "[-2.58376909  0.87000771  3.60315069 -0.75188958  0.0168805 ]\n"
     ]
    }
   ],
   "source": [
    "# Utskrifter av resultaten\n",
    "print(f\"Antal observationer: {model.n}\")\n",
    "print(f\"Varians: {model.varians()}\")\n",
    "print(f\"Standardavvikelse: {model.standardavvikelse()}\")\n",
    "print(f\"Signifikans av regressionen: {model.signifikans()}\")\n",
    "print(f\"R²-värde: {model.r_kvadrat()}\")\n"
   ]
  }
 ],
 "metadata": {
  "kernelspec": {
   "display_name": ".venv",
   "language": "python",
   "name": "python3"
  },
  "language_info": {
   "codemirror_mode": {
    "name": "ipython",
    "version": 3
   },
   "file_extension": ".py",
   "mimetype": "text/x-python",
   "name": "python",
   "nbconvert_exporter": "python",
   "pygments_lexer": "ipython3",
   "version": "3.12.6"
  }
 },
 "nbformat": 4,
 "nbformat_minor": 2
}

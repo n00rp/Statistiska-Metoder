{
 "cells": [
  {
   "cell_type": "markdown",
   "metadata": {},
   "source": [
    "# Ordinary Least Squares (OLS)\n",
    "\n",
    "Ordinary Least Squares (OLS) är en metod för att estimera koefficienterna i en linjär regressionsmodell.\n",
    "\n",
    "## Grundprinciper för OLS\n",
    "1. **Mål**: OLS syftar till att minimera summan av de kvadrerade skillnaderna mellan de observerade värdena och de värden som förutsägs av modellen.\n",
    "\n",
    "2. **Modell**: Den linjära modellen kan skrivas som:\n",
    "   $$y = \\beta_0 + \\beta_1 x_1 + \\beta_2 x_2 + ... + \\beta_n x_n + \\epsilon$$\n",
    "   där:\n",
    "   - $y$ är den beroende variabeln (det vi försöker förutsäga).\n",
    "   - $x_1, x_2, ..., x_n$ är de oberoende variablerna (de faktorer som påverkar $y$).\n",
    "   - $\\beta_0, \\beta_1, ..., \\beta_n$ är koefficienterna som vi vill estimera.\n",
    "   - $\\epsilon$ är feltermen.\n",
    "\n",
    "3. **Minimering av residualerna**: OLS beräknar koefficienterna ($\\beta$) genom att minimera följande funktion:\n",
    "   $$\\text{Minimera} \\sum (y_i - \\hat{y}_i)^2$$\n",
    "   där $y_i$ är de observerade värdena och $\\hat{y}_i$ är de förutsagda värdena från modellen.\n",
    "\n",
    "4. **Lösning**: Den optimala lösningen för koefficienterna kan hittas genom att använda matriser och derivator. Resultatet ger oss de värden på $\\beta$ som minimerar summan av kvadraterna av residualerna.\n",
    "\n",
    "## Tillämpningar\n",
    "OLS används ofta inom statistik och maskininlärning för att analysera relationer mellan variabler och för att göra förutsägelser. Den är enkel att implementera och förstå, vilket gör den populär inom många områden, inklusive ekonomi, biologi och samhällsvetenskap."
   ]
  },
  {
   "cell_type": "code",
   "execution_count": 1,
   "metadata": {},
   "outputs": [
    {
     "name": "stdout",
     "output_type": "stream",
     "text": [
      "                            OLS Regression Results                            \n",
      "==============================================================================\n",
      "Dep. Variable:                      Y   R-squared:                       0.945\n",
      "Model:                            OLS   Adj. R-squared:                  0.927\n",
      "Method:                 Least Squares   F-statistic:                     51.86\n",
      "Date:                Tue, 21 Jan 2025   Prob (F-statistic):            0.00552\n",
      "Time:                        12:23:03   Log-Likelihood:                -5.6451\n",
      "No. Observations:                   5   AIC:                             15.29\n",
      "Df Residuals:                       3   BIC:                             14.51\n",
      "Df Model:                           1                                         \n",
      "Covariance Type:            nonrobust                                         \n",
      "==============================================================================\n",
      "                 coef    std err          t      P>|t|      [0.025      0.975]\n",
      "------------------------------------------------------------------------------\n",
      "const         -1.0000      1.013     -0.987      0.396      -4.225       2.225\n",
      "X              2.2000      0.306      7.201      0.006       1.228       3.172\n",
      "==============================================================================\n",
      "Omnibus:                          nan   Durbin-Watson:                   1.700\n",
      "Prob(Omnibus):                    nan   Jarque-Bera (JB):                0.730\n",
      "Skew:                           0.344   Prob(JB):                        0.694\n",
      "Kurtosis:                       1.259   Cond. No.                         8.37\n",
      "==============================================================================\n",
      "\n",
      "Notes:\n",
      "[1] Standard Errors assume that the covariance matrix of the errors is correctly specified.\n"
     ]
    },
    {
     "name": "stderr",
     "output_type": "stream",
     "text": [
      "c:\\Programering\\It högskolan\\Statistiska-Metoder\\.venv\\Lib\\site-packages\\statsmodels\\stats\\stattools.py:74: ValueWarning: omni_normtest is not valid with less than 8 observations; 5 samples were given.\n",
      "  warn(\"omni_normtest is not valid with less than 8 observations; %i \"\n"
     ]
    }
   ],
   "source": [
    "import numpy as np\n",
    "import pandas as pd\n",
    "import statsmodels.api as sm\n",
    "\n",
    "# Exempeldata\n",
    "data = {\n",
    "    'X': [1, 2, 3, 4, 5],\n",
    "    'Y': [2, 3, 5, 7, 11]\n",
    "}  \n",
    "df = pd.DataFrame(data)\n",
    "\n",
    "# Lägg till en konstant för interceptet\n",
    "X = sm.add_constant(df['X'])\n",
    "\n",
    "# Skapa OLS-modellen\n",
    "model = sm.OLS(df['Y'], X)\n",
    "results = model.fit()\n",
    "\n",
    "# Visa resultaten\n",
    "print(results.summary())"
   ]
  }
 ],
 "metadata": {
  "kernelspec": {
   "display_name": ".venv",
   "language": "python",
   "name": "python3"
  },
  "language_info": {
   "codemirror_mode": {
    "name": "ipython",
    "version": 3
   },
   "file_extension": ".py",
   "mimetype": "text/x-python",
   "name": "python",
   "nbconvert_exporter": "python",
   "pygments_lexer": "ipython3",
   "version": "3.12.6"
  }
 },
 "nbformat": 4,
 "nbformat_minor": 2
}

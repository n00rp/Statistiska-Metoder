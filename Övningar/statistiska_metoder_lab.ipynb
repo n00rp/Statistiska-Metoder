{
 "cells": [
  {
   "cell_type": "markdown",
   "metadata": {},
   "source": [
    "# Linear Regression Assignment\n",
    "Denna notebook demonstrerar funktionaliteten hos LinearRegression-klassen.\n",
    "\n",
    "## Sammanfattning\n",
    "Denna notebook visar hur man använder LinearRegression-klassen för att utföra regression och rapportera viktiga statistiska mått."
   ]
  },
  {
   "cell_type": "code",
   "execution_count": 4,
   "metadata": {},
   "outputs": [
    {
     "ename": "ModuleNotFoundError",
     "evalue": "No module named 'statistiska_metoder_lab'",
     "output_type": "error",
     "traceback": [
      "\u001b[1;31m---------------------------------------------------------------------------\u001b[0m",
      "\u001b[1;31mModuleNotFoundError\u001b[0m                       Traceback (most recent call last)",
      "Cell \u001b[1;32mIn[4], line 3\u001b[0m\n\u001b[0;32m      1\u001b[0m \u001b[38;5;28;01mimport\u001b[39;00m\u001b[38;5;250m \u001b[39m\u001b[38;5;21;01mnumpy\u001b[39;00m\u001b[38;5;250m \u001b[39m\u001b[38;5;28;01mas\u001b[39;00m\u001b[38;5;250m \u001b[39m\u001b[38;5;21;01mnp\u001b[39;00m\n\u001b[0;32m      2\u001b[0m \u001b[38;5;28;01mfrom\u001b[39;00m\u001b[38;5;250m \u001b[39m\u001b[38;5;21;01mscipy\u001b[39;00m\u001b[38;5;250m \u001b[39m\u001b[38;5;28;01mimport\u001b[39;00m stats\n\u001b[1;32m----> 3\u001b[0m \u001b[38;5;28;01mfrom\u001b[39;00m\u001b[38;5;250m \u001b[39m\u001b[38;5;21;01mstatistiska_metoder_lab\u001b[39;00m\u001b[38;5;250m \u001b[39m\u001b[38;5;28;01mimport\u001b[39;00m LinearRegression\n\u001b[0;32m      5\u001b[0m \u001b[38;5;66;03m# Läs in data\u001b[39;00m\n\u001b[0;32m      6\u001b[0m data \u001b[38;5;241m=\u001b[39m np\u001b[38;5;241m.\u001b[39mgenfromtxt(\u001b[38;5;124m'\u001b[39m\u001b[38;5;124mc:/Programering/It högskolan/Statistiska-Metoder/Data/Small-diameter-flow.csv\u001b[39m\u001b[38;5;124m'\u001b[39m, delimiter\u001b[38;5;241m=\u001b[39m\u001b[38;5;124m'\u001b[39m\u001b[38;5;124m,\u001b[39m\u001b[38;5;124m'\u001b[39m)\n",
      "\u001b[1;31mModuleNotFoundError\u001b[0m: No module named 'statistiska_metoder_lab'"
     ]
    }
   ],
   "source": [
    "import numpy as np\n",
    "from scipy import stats\n",
    "from statistiska_metoder_lab import LinearRegression\n",
    "\n",
    "# Läs in data\n",
    "data = np.genfromtxt('c:/Programering/It högskolan/Statistiska-Metoder/Data/Small-diameter-flow.csv', delimiter=',')\n",
    "X1 = data[:, 0]\n",
    "X2 = data[:, 1]\n",
    "Y = data[:, 2]\n",
    "\n",
    "# Skapa designmatris\n",
    "X = np.column_stack((np.ones(X1.shape[0]), X1, X2))\n",
    "\n",
    "# Skapa en instans av LinearRegression\n",
    "lr = LinearRegression(X, Y)\n",
    "\n",
    "# Demonstrera funktionalitet\n",
    "print('Antal funktioner:', lr.d)\n",
    "print('Storlek på urval:', lr.n)\n",
    "print('Varians:', lr.variance())\n",
    "print('Standardavvikelse:', lr.standard_deviation())\n",
    "print('Signifikans:', lr.significance())\n",
    "print('R^2-värde:', lr.r_squared())"
   ]
  }
 ],
 "metadata": {
  "kernelspec": {
   "display_name": ".venv",
   "language": "python",
   "name": "python3"
  },
  "language_info": {
   "codemirror_mode": {
    "name": "ipython",
    "version": 3
   },
   "file_extension": ".py",
   "mimetype": "text/x-python",
   "name": "python",
   "nbconvert_exporter": "python",
   "pygments_lexer": "ipython3",
   "version": "3.12.6"
  }
 },
 "nbformat": 4,
 "nbformat_minor": 2
}

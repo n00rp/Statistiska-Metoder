{
 "cells": [
  {
   "cell_type": "markdown",
   "metadata": {},
   "source": [
    "# Linear Regression Assignment\n",
    "Denna notebook demonstrerar funktionaliteten hos LinearRegression-klassen.\n",
    "\n",
    "## Sammanfattning\n",
    "Denna notebook visar hur man använder LinearRegression-klassen för att utföra regression och rapportera viktiga statistiska mått."
   ]
  },
  {
   "cell_type": "code",
   "execution_count": 4,
   "metadata": {},
   "outputs": [
    {
     "name": "stdout",
     "output_type": "stream",
     "text": [
      "Antal funktioner: 3\n",
      "Storlek på urval: 198\n",
      "Varians: 2.147192894051545\n",
      "Standardavvikelse: 1.4653303020314379\n",
      "Signifikans: [array([0.05178332,        nan, 0.00390276]), array([       nan, 0.91426105,        nan]), array([6.17440013e-06,            nan, 6.02777828e-11])]\n",
      "R^2-värde: 0.9916658783974169\n"
     ]
    }
   ],
   "source": [
    "import sys\n",
    "sys.path.append('c:/Programering/It högskolan/Statistiska-Metoder')\n",
    "import numpy as np\n",
    "from scipy import stats\n",
    "from statistiska_metoder_lab import LinearRegression\n",
    "\n",
    "# Läs in data\n",
    "data = np.genfromtxt('c:/Programering/It högskolan/Statistiska-Metoder/Data/Small-diameter-flow.csv', delimiter=',', skip_header=1)\n",
    "\n",
    "# Extrahera kolumnerna\n",
    "X1 = data[:, 2]  # Kinematic\n",
    "X2 = data[:, 3]  # Geometric\n",
    "Y = data[:, 1]   # Flow\n",
    "\n",
    "# Skapa designmatris\n",
    "X = np.column_stack((np.ones(X1.shape[0]), X1, X2))\n",
    "\n",
    "# Skapa en instans av LinearRegression\n",
    "lr = LinearRegression(X, Y)\n",
    "\n",
    "# Demonstrera funktionalitet\n",
    "print('Antal funktioner:', lr.d)\n",
    "print('Storlek på urval:', lr.n)\n",
    "print('Varians:', lr.variance())\n",
    "print('Standardavvikelse:', lr.standard_deviation())\n",
    "print('Signifikans:', lr.significance())\n",
    "print('R^2-värde:', lr.r_squared())"
   ]
  }
 ],
 "metadata": {
  "kernelspec": {
   "display_name": ".venv",
   "language": "python",
   "name": "python3"
  },
  "language_info": {
   "codemirror_mode": {
    "name": "ipython",
    "version": 3
   },
   "file_extension": ".py",
   "mimetype": "text/x-python",
   "name": "python",
   "nbconvert_exporter": "python",
   "pygments_lexer": "ipython3",
   "version": "3.12.6"
  }
 },
 "nbformat": 4,
 "nbformat_minor": 2
}

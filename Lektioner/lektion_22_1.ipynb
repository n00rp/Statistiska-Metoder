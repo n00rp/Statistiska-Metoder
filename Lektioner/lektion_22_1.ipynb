{
 "cells": [
  {
   "cell_type": "markdown",
   "metadata": {},
   "source": [
    "Användbara kvantiteter\n",
    "\n",
    "SSE = $\\sum(y_i - \\hat{y}_i)^2$\n",
    "\n",
    "SYY = $\\sum(y_i - \\bar{y})^2$\n",
    "\n",
    "SXX = $\\sum(x_i - \\bar{x})^2$\n",
    "\n",
    "SXY = $\\sum(x_i - \\bar{x})(y_i - \\bar{y})$\n",
    "\n",
    "SSR = SSE - SYY\n",
    "Träning och validering\n",
    "Inom maskininlärning bryr vi oss inte om det förflutna (statistiskt sett).\n",
    "\n",
    "Vi delar upp våra data i två eller tre uppsättningar: Träning, Validering och Test.\n",
    "\n",
    "Nu behöver vi jämförelse av medelvärden mellan prover (Tränings- och Valideringsuppsättningar).\n",
    "\n",
    "EMSE: Förväntningar för medelvärdet av SSE:\n",
    "EMSE (y-ŷ): Förväntningar för skillnaden i medelvärde mellan Y och vårt förväntade värde av Y:\n",
    "\n",
    "$EMSE(y-ŷ) = E(y-ŷ) = E(y-\\hat{y}) = E(\\hat{y}-y)$\n",
    "\n",
    "EMSE (ŷ-y): Förväntningar för skillnaden i medelvärde mellan Y-hat och Y:\n",
    "\n",
    "$var(y-\\hat{y}) + Bias(\\hat{y})^2 + Var(e)$\n",
    "\n",
    "Reducerbart och irreducerbart fel\n",
    "Ett \"reducerbart\" fel är ett fel som kan minskas genom att förbättra modellen, medan ett \"irreducerbart\" fel är den inneboende variationen i data som inte kan elimineras.\n",
    "\n",
    "Linjärisering\n",
    "Om man ändrar dimensionen kan man få en icke-linjär modell att bli linjär. $Y = a + bX$\n",
    "\n",
    "Funktionstyper\n",
    "f(x) => reella tal (regression)\n",
    "f(x) => etiketter (0,1,2) där varje siffra kan representera en klass såsom \"röd\", \"gul\", \"grön\" (klassificering) (frekvensvektor)\n",
    "Etiketter är kvalitativa, kategoriska data."
   ]
  },
  {
   "cell_type": "code",
   "execution_count": null,
   "metadata": {},
   "outputs": [],
   "source": []
  }
 ],
 "metadata": {
  "kernelspec": {
   "display_name": ".venv",
   "language": "python",
   "name": "python3"
  },
  "language_info": {
   "name": "python",
   "version": "3.12.6"
  }
 },
 "nbformat": 4,
 "nbformat_minor": 2
}
